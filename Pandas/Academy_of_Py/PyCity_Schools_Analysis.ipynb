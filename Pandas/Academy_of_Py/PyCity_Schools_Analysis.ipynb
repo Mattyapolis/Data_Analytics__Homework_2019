{
 "cells": [
  {
   "cell_type": "markdown",
   "metadata": {},
   "source": [
    "## District Math and Reading Test Performance Analysis\n",
    "\n",
    "- On average, across the district students perform better on reading than they do math.\n",
    "- Bottom performing schools have a disparity between math and reading average scores than the top performing schools\n",
    "- The top performing school does not spend the most per student. In fact, schools spending the most per student performed worse on average than those on the lower end of district per student spending. \n",
    "- Medium size schools performed the best over all across reading and math tests. Large schools had the greatest disparity between students passing math tests vs students passing reading tests.\n",
    "- Charter schools greatly outperformed district schools.\n"
   ]
  },
  {
   "cell_type": "code",
   "execution_count": null,
   "metadata": {},
   "outputs": [],
   "source": [
    "import pandas as pd\n",
    "import numpy as np\n"
   ]
  },
  {
   "cell_type": "code",
   "execution_count": null,
   "metadata": {},
   "outputs": [],
   "source": [
    "school_data_to_load = \"Resources/PyCity_School_Data.csv\"\n",
    "student_data_to_load = \"Resources/PyCity_Student_Data.csv\""
   ]
  },
  {
   "cell_type": "code",
   "execution_count": null,
   "metadata": {},
   "outputs": [],
   "source": [
    "school_data = pd.read_csv(school_data_to_load)\n",
    "student_data = pd.read_csv(student_data_to_load)\n"
   ]
  },
  {
   "cell_type": "markdown",
   "metadata": {},
   "source": [
    "## Initializing Data"
   ]
  },
  {
   "cell_type": "code",
   "execution_count": null,
   "metadata": {},
   "outputs": [],
   "source": [
    "school_data = school_data.rename(columns={\"school_name\" : \"School Name\", \"type\" : \"Type\", \"size\" : \"Size\", \"budget\" : \"Budget\"})\n",
    "school_data"
   ]
  },
  {
   "cell_type": "code",
   "execution_count": null,
   "metadata": {},
   "outputs": [],
   "source": [
    "student_data = student_data.rename(columns={\"student_name\" : \"Student Name\", \"gender\" : \"Gender\", \"grade\" : \"Grade\",\n",
    "                                           \"school_name\" : \"School Name\", \"reading_score\" : \"Reading Score\", \"math_score\" : \"Math Score\"})\n",
    "student_data.head()"
   ]
  },
  {
   "cell_type": "code",
   "execution_count": null,
   "metadata": {},
   "outputs": [],
   "source": [
    "school_complete = pd.merge(student_data, school_data, how=\"left\", on=[\"School Name\", \"School Name\"])"
   ]
  },
  {
   "cell_type": "code",
   "execution_count": null,
   "metadata": {},
   "outputs": [],
   "source": [
    "school_complete = school_complete.rename(columns={\"student_name\" : \"Student Name\", \"gender\" : \"Gender\", \"grade\" : \"Grade\", \"school_name\" : \"School Name\",\n",
    "                                                 \"reading_score\" : \"Reading Score\", \"math_score\" : \"Math Score\", \"type\" : \"Type\", \"size\" : \"Size\",\n",
    "                                                 \"budget\" : \"Budget\"})\n",
    "school_complete.head()\n"
   ]
  },
  {
   "cell_type": "markdown",
   "metadata": {},
   "source": [
    "## District Summary"
   ]
  },
  {
   "cell_type": "code",
   "execution_count": null,
   "metadata": {},
   "outputs": [],
   "source": [
    "#Calculate number of schools in the district (used .nunique() function to return count of unique school names).\n",
    "district_schools = school_complete[\"School Name\"].nunique()\n",
    "\n",
    "#calculate total number of students in the district.\n",
    "district_students = school_complete[\"Student Name\"].count()\n",
    "\n",
    "#cacluate total distruct budget (sum of each school's budget).\n",
    "district_budget = school_data[\"Budget\"].sum()\n",
    "\n",
    "#Calculate the average math score.\n",
    "avg_math_score = school_complete[\"Math Score\"].mean()\n",
    "\n",
    "#Calculate the average reading score.\n",
    "avg_reading_score = school_complete[\"Reading Score\"].mean()\n",
    "\n",
    "#----------------------------------------------------------------------\n",
    "#Calculate the overall average score\n",
    "\n",
    "avg_overall = ((avg_math_score + avg_reading_score) / 2)\n",
    "\n",
    "#---------------------------------------------------------------------\n",
    "#Calculate the percentage of students with a passing math score.\n",
    "\n",
    "#total count of students with math score of 70 or greater\n",
    "passing_math_total = school_complete.loc[school_complete[\"Math Score\"] >= 70].count()[\"Student ID\"]\n",
    "\n",
    "\n",
    "#Use count of studnets with score of 70% or greater and total count of students overall to calculate the percentage\n",
    "#and store as a variable\n",
    "passing_math_pct = (passing_math_total / district_students)*100\n",
    "\n",
    "#----------------------------------------------------------------------------\n",
    "#calculate the percentage of students witha  passing reading score.\n",
    "\n",
    "#total count of students with reading score of 70 or greater.\n",
    "passing_reading_total = school_complete.loc[school_complete[\"Reading Score\"] >= 70].count()[\"Student ID\"]\n",
    "\n",
    "#Use count of studnets with score of 70% or greater and total count of students overall to calculate the percentage\n",
    "#and store as a variable\n",
    "passing_reading_pct = (passing_reading_total / district_students)*100\n",
    "\n",
    "#----------------------------------------------------------------------------------\n",
    "#Use variales above to create a district summary data frame.\n",
    "district_summary = pd.DataFrame({\"Total Schools\" : [district_schools],\n",
    "                                 \"Total Students\" : [district_students],\n",
    "                                 \"Total Budget\" : [district_budget],\n",
    "                                 \"Average Math Score\" : [avg_math_score],\n",
    "                                 \"Average Reading Score\" : [avg_reading_score],\n",
    "                                 \"% Passing Math\" : [passing_math_pct],\n",
    "                                 \"% Passing Reading\" : [passing_reading_pct],\n",
    "                                 \"% Overall Passing Rate\" : [avg_overall]})\n",
    "\n",
    "\n",
    "#Format data\n",
    "district_summary[\"Total Students\"] = district_summary[\"Total Students\"].map(\"{:,}\".format)\n",
    "district_summary[\"Total Budget\"] = district_summary[\"Total Budget\"].map(\"${:,.2f}\".format)\n",
    "district_summary[\"Average Math Score\"] = district_summary[\"Average Math Score\"].map(\"{:,.2f}\".format)\n",
    "district_summary[\"Average Reading Score\"] = district_summary[\"Average Reading Score\"].map(\"{:,.2f}\".format)\n",
    "district_summary[\"% Passing Math\"] = district_summary[\"% Passing Math\"].map(\"{:.2f}\".format)\n",
    "district_summary[\"% Passing Reading\"] = district_summary[\"% Passing Reading\"].map(\"{:.2f}\".format)\n",
    "district_summary[\"% Overall Passing Rate\"] = district_summary[\"% Overall Passing Rate\"].map(\"{:.2f}\".format)\n",
    "\n",
    "\n",
    "district_summary\n"
   ]
  },
  {
   "cell_type": "markdown",
   "metadata": {},
   "source": [
    "## School Summary"
   ]
  },
  {
   "cell_type": "code",
   "execution_count": null,
   "metadata": {},
   "outputs": [],
   "source": [
    "#Using the school_data as starting point, set index to the \"School Name\" column.\n",
    "school_summary = school_data.set_index([\"School Name\"])\n",
    "\n",
    "#Find the budget per student for each school.\n",
    "budget_per_student = school_summary[\"Budget\"] / school_summary[\"Size\"]\n",
    "\n",
    "#Find average math and reading scores for each school.\n",
    "sch_avg_math_score = school_complete.groupby(\"School Name\").mean()[\"Math Score\"]\n",
    "sch_avg_reading_score = school_complete.groupby(\"School Name\").mean()[\"Reading Score\"]\n",
    "\n",
    "#Find number of studnets at each school with score over 70 for math and reading (respectively)\n",
    "sch_passing_math_count = school_complete.loc[school_complete[\"Math Score\"] >= 70].groupby(\"School Name\").count()[\"Student ID\"]\n",
    "sch_passing_reading_count = school_complete.loc[school_complete[\"Reading Score\"] >= 70].groupby(\"School Name\").count()[\"Student ID\"]\n",
    "\n",
    "#Calculate the percentage of students with passing reading and math scores for each scool.\n",
    "sch_passing_math_pct = (sch_passing_math_count / school_summary[\"Size\"]) * 100\n",
    "sch_passing_reading_pct = (sch_passing_reading_count / school_summary[\"Size\"]) * 100\n",
    "\n",
    "#Calculate the percentage of students with passing scores overall at each school.\n",
    "sch_overall_passign_rate = (sch_passing_math_pct + sch_passing_reading_pct) / 2\n",
    "\n",
    "# Assign cacluated values above to new columns and add to the school summary data frame.\n",
    "school_summary[\"Per Student Budget\"] = budget_per_student\n",
    "school_summary[\"Average Math Score\"] = sch_avg_math_score\n",
    "school_summary[\"Average Reading Score\"] = sch_avg_reading_score\n",
    "school_summary[\"% Passing Math\"] = sch_passing_math_pct\n",
    "school_summary[\"% Passing Reading\"] = sch_passing_reading_pct\n",
    "school_summary[\"% Overall Passing Rate\"] = sch_overall_passign_rate\n",
    "\n",
    "#Reoganize columns.\n",
    "\n",
    "school_summary = school_summary.rename(columns={\"Size\" : \"Total Students\", \"Type\" : \"School Type\"})\n",
    "school_summary = school_summary[[ \"School Type\", \"Total Students\", \"Budget\", \"Per Student Budget\", \"Average Math Score\", \"Average Reading Score\", \"% Passing Math\", \n",
    "                   \"% Passing Reading\", \"% Overall Passing Rate\"]]\n",
    "\n",
    "#Format data\n",
    "school_summary_formatted = school_summary.copy()\n",
    "\n",
    "\n",
    "school_summary_formatted[\"Total Students\"] = school_summary[\"Total Students\"].map(\"{:,}\".format)\n",
    "school_summary_formatted[\"Budget\"] = school_summary[\"Budget\"].map(\"${:,.2f}\".format)\n",
    "school_summary_formatted[\"Per Student Budget\"] = school_summary[\"Per Student Budget\"].map(\"${:,.2f}\".format)\n",
    "school_summary_formatted[\"Average Math Score\"] = school_summary[\"Average Math Score\"].map(\"{:,.2f}\".format)\n",
    "school_summary_formatted[\"Average Reading Score\"] = school_summary[\"Average Reading Score\"].map(\"{:,.2f}\".format)\n",
    "school_summary_formatted[\"% Passing Math\"] = school_summary[\"% Passing Math\"].map(\"{:.2f}\".format)\n",
    "school_summary_formatted[\"% Passing Reading\"] = school_summary[\"% Passing Reading\"].map(\"{:.2f}\".format)\n",
    "school_summary_formatted[\"% Overall Passing Rate\"] = school_summary[\"% Overall Passing Rate\"].map(\"{:.2f}\".format)\n",
    "\n",
    "school_summary_formatted\n",
    "\n"
   ]
  },
  {
   "cell_type": "markdown",
   "metadata": {},
   "source": [
    "## Top Performing Schools (by passing rate)"
   ]
  },
  {
   "cell_type": "code",
   "execution_count": null,
   "metadata": {},
   "outputs": [],
   "source": [
    "#Sort school summary by % overall passing rate in decending order\n",
    "top_performing_schools = school_summary_formatted.sort_values([\"% Overall Passing Rate\"], ascending = False)\n",
    "\n",
    "top_performing_schools.head(5)\n",
    "\n"
   ]
  },
  {
   "cell_type": "markdown",
   "metadata": {},
   "source": [
    "## Bottom Performing Schools (by passing rate)"
   ]
  },
  {
   "cell_type": "code",
   "execution_count": null,
   "metadata": {},
   "outputs": [],
   "source": [
    "#Sort school summary by % overall passing rate in ascending order\n",
    "bottom_performing_schools = school_summary_formatted.sort_values([\"% Overall Passing Rate\"], ascending = True)\n",
    "\n",
    "bottom_performing_schools.head(5)"
   ]
  },
  {
   "cell_type": "markdown",
   "metadata": {},
   "source": [
    "## Math Scores by Grade"
   ]
  },
  {
   "cell_type": "code",
   "execution_count": null,
   "metadata": {},
   "outputs": [],
   "source": [
    "#Create series containing the average math scores for students in each grade.\n",
    "ninth_grade_math = school_complete.loc[school_complete[\"Grade\"] == \"9th\"].groupby(\"School Name\").mean()[\"Math Score\"]\n",
    "tenth_grade_math = school_complete.loc[school_complete[\"Grade\"] == \"10th\"].groupby(\"School Name\").mean()[\"Math Score\"]\n",
    "eleventh_grade_math = school_complete.loc[school_complete[\"Grade\"] == \"11th\"].groupby(\"School Name\").mean()[\"Math Score\"]\n",
    "twelfth_grade_math = school_complete.loc[school_complete[\"Grade\"] == \"12th\"].groupby(\"School Name\").mean()[\"Math Score\"]\n",
    "\n",
    "#Create a data frame using the series established above.\n",
    "math_score_by_grade_summary = pd.DataFrame({\"9th\" : ninth_grade_math, \"10th\" : tenth_grade_math,\n",
    "                                            \"11th\" : eleventh_grade_math, \"12th\" : twelfth_grade_math})\n",
    "\n",
    "\n",
    "#Format data\n",
    "math_score_by_grade_summary[\"9th\"] = math_score_by_grade_summary[\"9th\"].map(\"{:,.2f}\".format)\n",
    "math_score_by_grade_summary[\"10th\"] = math_score_by_grade_summary[\"10th\"].map(\"{:,.2f}\".format)\n",
    "math_score_by_grade_summary[\"11th\"] = math_score_by_grade_summary[\"11th\"].map(\"{:,.2f}\".format)\n",
    "math_score_by_grade_summary[\"12th\"] = math_score_by_grade_summary[\"12th\"].map(\"{:,.2f}\".format)\n",
    "\n",
    "math_score_by_grade_summary\n"
   ]
  },
  {
   "cell_type": "markdown",
   "metadata": {},
   "source": [
    "## Reading Scores by Grade"
   ]
  },
  {
   "cell_type": "code",
   "execution_count": null,
   "metadata": {},
   "outputs": [],
   "source": [
    "#Create series containing the average reading scores for students in each grade.\n",
    "ninth_grade_reading = school_complete.loc[school_complete[\"Grade\"] == \"9th\"].groupby(\"School Name\").mean()[\"Reading Score\"]\n",
    "tenth_grade_reading = school_complete.loc[school_complete[\"Grade\"] == \"10th\"].groupby(\"School Name\").mean()[\"Reading Score\"]\n",
    "eleventh_grade_reading = school_complete.loc[school_complete[\"Grade\"] == \"11th\"].groupby(\"School Name\").mean()[\"Reading Score\"]\n",
    "twelfth_grade_reading = school_complete.loc[school_complete[\"Grade\"] == \"12th\"].groupby(\"School Name\").mean()[\"Reading Score\"]\n",
    "\n",
    "#Create a data frame using the series established above.\n",
    "reading_score_by_grade_summary = pd.DataFrame({\"9th\" : ninth_grade_reading, \"10th\" : tenth_grade_reading,\n",
    "                                            \"11th\" : eleventh_grade_reading, \"12th\" : twelfth_grade_reading})\n",
    "#Format data\n",
    "reading_score_by_grade_summary[\"9th\"] = reading_score_by_grade_summary[\"9th\"].map(\"{:,.2f}\".format)\n",
    "reading_score_by_grade_summary[\"10th\"] = reading_score_by_grade_summary[\"10th\"].map(\"{:,.2f}\".format)\n",
    "reading_score_by_grade_summary[\"11th\"] = reading_score_by_grade_summary[\"11th\"].map(\"{:,.2f}\".format)\n",
    "reading_score_by_grade_summary[\"12th\"] = reading_score_by_grade_summary[\"12th\"].map(\"{:,.2f}\".format)\n",
    "\n",
    "reading_score_by_grade_summary\n"
   ]
  },
  {
   "cell_type": "markdown",
   "metadata": {},
   "source": [
    "## Scores by School Spending"
   ]
  },
  {
   "cell_type": "code",
   "execution_count": null,
   "metadata": {},
   "outputs": [],
   "source": [
    "\n",
    "scores_by_school_spending = school_summary.copy()\n",
    "\n",
    "#Define bins to organize the data by.\n",
    "spending_bins = [0, 585, 615, 645, 675]\n",
    "\n",
    "#Assign names for the bins to be used as labels\n",
    "spending_group_names = [\"<$585\", \"$585-615\", \"$615-645\", \"$645-675\"]\n",
    "\n",
    "#Use the cut function to insert a new column containing describing the bin the record belongs to.\n",
    "scores_by_school_spending[\"Spending Per Student Range\"] = pd.cut(scores_by_school_spending[\"Per Student Budget\"], spending_bins, labels=spending_group_names)\n",
    "\n",
    "#Create series of the average scores, % passing math and reading, and % overall passing, grouping by the bins\n",
    "#defined above.\n",
    "spend_math_avg = scores_by_school_spending.groupby(\"Spending Per Student Range\").mean()[\"Average Math Score\"]\n",
    "spend_read_avg = scores_by_school_spending.groupby(\"Spending Per Student Range\").mean()[\"Average Reading Score\"]\n",
    "spend_pct_pass_math = scores_by_school_spending.groupby(\"Spending Per Student Range\").mean()[\"% Passing Math\"]\n",
    "spend_pct_pass_read = scores_by_school_spending.groupby(\"Spending Per Student Range\").mean()[\"% Passing Reading\"]\n",
    "spend_pct_overall_pass = scores_by_school_spending.groupby(\"Spending Per Student Range\").mean()[\"% Overall Passing Rate\"]\n",
    "\n",
    "#Create a data frame using the series established above.\n",
    "scores_by_school_spending = pd.DataFrame({\"Average Math Score\" : spend_math_avg, \"Average Reading Score\" : spend_read_avg,\n",
    "                                         \"% Passing Math\" : spend_pct_pass_math, \"% Passing Reading\" : spend_pct_pass_read,\n",
    "                                         \"% Overall Passing Rate\" : spend_pct_overall_pass})\n",
    "\n",
    "#Format the data\n",
    "scores_by_school_spending_formatted = scores_by_school_spending.copy()\n",
    "\n",
    "scores_by_school_spending_formatted[\"Average Math Score\"] = scores_by_school_spending_formatted[\"Average Math Score\"].map(\"{:,.2f}\".format)\n",
    "scores_by_school_spending_formatted[\"Average Reading Score\"] = scores_by_school_spending_formatted[\"Average Reading Score\"].map(\"{:,.2f}\".format)\n",
    "scores_by_school_spending_formatted[\"% Passing Math\"] = scores_by_school_spending_formatted[\"% Passing Math\"].map(\"{:.2f}\".format)\n",
    "scores_by_school_spending_formatted[\"% Passing Reading\"] = scores_by_school_spending_formatted[\"% Passing Reading\"].map(\"{:.2f}\".format)\n",
    "scores_by_school_spending_formatted[\"% Overall Passing Rate\"] = scores_by_school_spending_formatted[\"% Overall Passing Rate\"].map(\"{:.2f}\".format)\n",
    "\n",
    "scores_by_school_spending_formatted\n"
   ]
  },
  {
   "cell_type": "markdown",
   "metadata": {},
   "source": [
    "## Scores  by School Size"
   ]
  },
  {
   "cell_type": "code",
   "execution_count": null,
   "metadata": {},
   "outputs": [],
   "source": [
    "\n",
    "scores_by_school_size = school_summary.copy()\n",
    "\n",
    "#Define bins to organize the data by.\n",
    "size_bins = [0, 1000, 2000, 5000]\n",
    "\n",
    "#Assign names for the bins to be used as labels\n",
    "size_group_names = [\"Small (<1000)\", \"Medium (1000-2000)\", \"Large (2000-5000)\"]\n",
    "\n",
    "#Use the cut function to insert a new column containing describing the bin the record belongs to.\n",
    "scores_by_school_size[\"School Size Range\"] = pd.cut(scores_by_school_size[\"Total Students\"], size_bins, labels=size_group_names)\n",
    "\n",
    "#Create series of the average scores, % passing math and reading, and % overall passing, grouping by the bins\n",
    "#defined above.\n",
    "size_math_avg = scores_by_school_size.groupby(\"School Size Range\").mean()[\"Average Math Score\"]\n",
    "size_read_avg = scores_by_school_size.groupby(\"School Size Range\").mean()[\"Average Reading Score\"]\n",
    "size_pct_pass_math = scores_by_school_size.groupby(\"School Size Range\").mean()[\"% Passing Math\"]\n",
    "size_pct_pass_read = scores_by_school_size.groupby(\"School Size Range\").mean()[\"% Passing Reading\"]\n",
    "size_pct_overall_pass = scores_by_school_size.groupby(\"School Size Range\").mean()[\"% Overall Passing Rate\"]\n",
    "\n",
    "#Create a data frame using the series established above.\n",
    "scores_by_school_size = pd.DataFrame({\"Average Math Score\" : size_math_avg, \"Average Reading Score\" : size_read_avg,\n",
    "                                         \"% Passing Math\" : size_pct_pass_math, \"% Passing Reading\" : size_pct_pass_read,\n",
    "                                         \"% Overall Passing Rate\" : size_pct_overall_pass})\n",
    "\n",
    "#Format the data.\n",
    "scores_by_school_size_formatted = scores_by_school_size.copy()\n",
    "\n",
    "scores_by_school_size_formatted[\"Average Math Score\"] = scores_by_school_size_formatted[\"Average Math Score\"].map(\"{:,.2f}\".format)\n",
    "scores_by_school_size_formatted[\"Average Reading Score\"] = scores_by_school_size_formatted[\"Average Reading Score\"].map(\"{:,.2f}\".format)\n",
    "scores_by_school_size_formatted[\"% Passing Math\"] = scores_by_school_size_formatted[\"% Passing Math\"].map(\"{:.2f}\".format)\n",
    "scores_by_school_size_formatted[\"% Passing Reading\"] = scores_by_school_size_formatted[\"% Passing Reading\"].map(\"{:.2f}\".format)\n",
    "scores_by_school_size_formatted[\"% Overall Passing Rate\"] = scores_by_school_size_formatted[\"% Overall Passing Rate\"].map(\"{:.2f}\".format)\n",
    "\n",
    "scores_by_school_size_formatted\n"
   ]
  },
  {
   "cell_type": "markdown",
   "metadata": {},
   "source": [
    "## Scores by School Type"
   ]
  },
  {
   "cell_type": "code",
   "execution_count": null,
   "metadata": {},
   "outputs": [],
   "source": [
    "\n",
    "scores_by_school_type= school_summary.copy()\n",
    "\n",
    "#Create series of the average scores, % passing math and reading, and % overall passing, grouping by school type.\n",
    "type_math_avg = scores_by_school_type.groupby(\"School Type\").mean()[\"Average Math Score\"]\n",
    "type_read_avg = scores_by_school_type.groupby(\"School Type\").mean()[\"Average Reading Score\"]\n",
    "type_pct_pass_math = scores_by_school_type.groupby(\"School Type\").mean()[\"% Passing Math\"]\n",
    "type_pct_pass_read = scores_by_school_type.groupby(\"School Type\").mean()[\"% Passing Reading\"]\n",
    "type_pct_overall_pass = scores_by_school_type.groupby(\"School Type\").mean()[\"% Overall Passing Rate\"]\n",
    "\n",
    "#Create a data frame using the series established above.\n",
    "scores_by_school_type = pd.DataFrame({\"Average Math Score\" : type_math_avg, \"Average Reading Score\" : type_read_avg,\n",
    "                                         \"% Passing Math\" : type_pct_pass_math, \"% Passing Reading\" : type_pct_pass_read,\n",
    "                                         \"% Overall Passing Rate\" : type_pct_overall_pass})\n",
    "\n",
    "#Format the data\n",
    "scores_by_school_type_formatted = scores_by_school_type.copy()\n",
    "\n",
    "scores_by_school_type_formatted[\"Average Math Score\"] = scores_by_school_type_formatted[\"Average Math Score\"].map(\"{:,.2f}\".format)\n",
    "scores_by_school_type_formatted[\"Average Reading Score\"] = scores_by_school_type_formatted[\"Average Reading Score\"].map(\"{:,.2f}\".format)\n",
    "scores_by_school_type_formatted[\"% Passing Math\"] = scores_by_school_type_formatted[\"% Passing Math\"].map(\"{:.2f}\".format)\n",
    "scores_by_school_type_formatted[\"% Passing Reading\"] = scores_by_school_type_formatted[\"% Passing Reading\"].map(\"{:.2f}\".format)\n",
    "scores_by_school_type_formatted[\"% Overall Passing Rate\"] = scores_by_school_type_formatted[\"% Overall Passing Rate\"].map(\"{:.2f}\".format)\n",
    "\n",
    "scores_by_school_type_formatted"
   ]
  },
  {
   "cell_type": "code",
   "execution_count": null,
   "metadata": {},
   "outputs": [],
   "source": []
  },
  {
   "cell_type": "code",
   "execution_count": null,
   "metadata": {},
   "outputs": [],
   "source": []
  }
 ],
 "metadata": {
  "kernelspec": {
   "display_name": "Python 3",
   "language": "python",
   "name": "python3"
  },
  "language_info": {
   "codemirror_mode": {
    "name": "ipython",
    "version": 3
   },
   "file_extension": ".py",
   "mimetype": "text/x-python",
   "name": "python",
   "nbconvert_exporter": "python",
   "pygments_lexer": "ipython3",
   "version": "3.7.3"
  }
 },
 "nbformat": 4,
 "nbformat_minor": 2
}
